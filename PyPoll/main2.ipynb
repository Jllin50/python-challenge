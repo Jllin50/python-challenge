{
 "cells": [
  {
   "cell_type": "code",
   "execution_count": 1,
   "metadata": {},
   "outputs": [],
   "source": [
    "# The total number of votes cast\n",
    "\n",
    "\n",
    "# A complete list of candidates who received votes\n",
    "\n",
    "\n",
    "# The percentage of votes each candidate won\n",
    "\n",
    "\n",
    "# The total number of votes each candidate won\n",
    "\n",
    "\n",
    "# The winner of the election based on popular vote.\n",
    "\n",
    "# Election Results\n",
    "# -------------------------\n",
    "# Total Votes: 3521001\n",
    "# -------------------------\n",
    "# Khan: 63.000% (2218231)\n",
    "# Correy: 20.000% (704200)\n",
    "# Li: 14.000% (492940)\n",
    "# O'Tooley: 3.000% (105630)\n",
    "# -------------------------\n",
    "# Winner: Khan\n",
    "# -------------------------\n"
   ]
  },
  {
   "cell_type": "code",
   "execution_count": 2,
   "metadata": {},
   "outputs": [],
   "source": [
    "filename = 'election_data.csv' \n",
    "with open(filename) as file_object:     \n",
    "    lines = file_object.readlines() \n",
    "    \n",
    "del lines[0]"
   ]
  },
  {
   "cell_type": "code",
   "execution_count": 3,
   "metadata": {},
   "outputs": [],
   "source": [
    "i = 0\n",
    "for line in lines:\n",
    "    cleaned = line.rstrip()\n",
    "    cleaned = cleaned.split(\",\")\n",
    "    lines[i] = cleaned\n",
    "    i += 1"
   ]
  },
  {
   "cell_type": "code",
   "execution_count": 4,
   "metadata": {},
   "outputs": [
    {
     "ename": "IndentationError",
     "evalue": "expected an indented block (<ipython-input-4-416dab088672>, line 6)",
     "output_type": "error",
     "traceback": [
      "\u001b[1;36m  File \u001b[1;32m\"<ipython-input-4-416dab088672>\"\u001b[1;36m, line \u001b[1;32m6\u001b[0m\n\u001b[1;33m    if vote[2] in candidates_dict == \"True\":\u001b[0m\n\u001b[1;37m     ^\u001b[0m\n\u001b[1;31mIndentationError\u001b[0m\u001b[1;31m:\u001b[0m expected an indented block\n"
     ]
    }
   ],
   "source": [
    "total_votes = 0\n",
    "candidates = []\n",
    "candidates_dict = {}\n",
    "\n",
    "for vote in lines:\n",
    "    if vote[2] in candidates_dict:\n",
    "        current_votes = candidates_dict[vote[2]]\n",
    "        current_votes += 1\n",
    "        candidates_dict[vote[2]] = current_votes\n",
    "    else:\n",
    "        cadidates_dict[]\n",
    "        candidates_dict[vote[2]] = 1\n",
    "        "
   ]
  },
  {
   "cell_type": "code",
   "execution_count": null,
   "metadata": {},
   "outputs": [],
   "source": [
    "print(candidates_dict[\"Khan\"])"
   ]
  },
  {
   "cell_type": "code",
   "execution_count": null,
   "metadata": {},
   "outputs": [],
   "source": []
  }
 ],
 "metadata": {
  "kernelspec": {
   "display_name": "Python 3",
   "language": "python",
   "name": "python3"
  },
  "language_info": {
   "codemirror_mode": {
    "name": "ipython",
    "version": 3
   },
   "file_extension": ".py",
   "mimetype": "text/x-python",
   "name": "python",
   "nbconvert_exporter": "python",
   "pygments_lexer": "ipython3",
   "version": "3.6.5"
  }
 },
 "nbformat": 4,
 "nbformat_minor": 2
}
