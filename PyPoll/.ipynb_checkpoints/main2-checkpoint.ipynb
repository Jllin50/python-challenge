{
 "cells": [
  {
   "cell_type": "code",
   "execution_count": null,
   "metadata": {},
   "outputs": [],
   "source": [
    "# The total number of votes cast\n",
    "\n",
    "\n",
    "# A complete list of candidates who received votes\n",
    "\n",
    "\n",
    "# The percentage of votes each candidate won\n",
    "\n",
    "\n",
    "# The total number of votes each candidate won\n",
    "\n",
    "\n",
    "# The winner of the election based on popular vote."
   ]
  }
 ],
 "metadata": {
  "kernelspec": {
   "display_name": "Python 3",
   "language": "python",
   "name": "python3"
  },
  "language_info": {
   "codemirror_mode": {
    "name": "ipython",
    "version": 3
   },
   "file_extension": ".py",
   "mimetype": "text/x-python",
   "name": "python",
   "nbconvert_exporter": "python",
   "pygments_lexer": "ipython3",
   "version": "3.6.5"
  }
 },
 "nbformat": 4,
 "nbformat_minor": 2
}
