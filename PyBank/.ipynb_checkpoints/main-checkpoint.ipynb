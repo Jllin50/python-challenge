{
 "cells": [
  {
   "cell_type": "code",
   "execution_count": 1,
   "metadata": {},
   "outputs": [],
   "source": [
    "filename = 'PyBank_Resources_budget_data.csv' \n",
    "with open(filename) as file_object:     \n",
    "    lines = file_object.readlines() \n",
    "    \n",
    "del lines[0]\n",
    "\n",
    "\n",
    "    "
   ]
  },
  {
   "cell_type": "code",
   "execution_count": 2,
   "metadata": {},
   "outputs": [],
   "source": [
    "i = 0\n",
    "\n",
    "for line in lines:\n",
    "    cleaned = line.rstrip()\n",
    "    cleaned = cleaned.split(\",\")\n",
    "    lines[i] = cleaned\n",
    "    i += 1\n",
    "print(lines)"
   ]
  },
  {
   "cell_type": "code",
   "execution_count": 3,
   "metadata": {},
   "outputs": [
    {
     "name": "stdout",
     "output_type": "stream",
     "text": [
      "38382578\n",
      "\n",
      "86\n",
      "\n",
      "86\n"
     ]
    }
   ],
   "source": [
    "month_count = 0\n",
    "net_profit = 0\n",
    "\n",
    "for line in lines:\n",
    "    month_count += 1\n",
    "    net_profit += int(line[1])\n",
    "\n",
    "average_net = net_profit/month_count"
   ]
  },
  {
   "cell_type": "code",
   "execution_count": null,
   "metadata": {},
   "outputs": [],
   "source": []
  }
 ],
 "metadata": {
  "kernelspec": {
   "display_name": "Python 3",
   "language": "python",
   "name": "python3"
  },
  "language_info": {
   "codemirror_mode": {
    "name": "ipython",
    "version": 3
   },
   "file_extension": ".py",
   "mimetype": "text/x-python",
   "name": "python",
   "nbconvert_exporter": "python",
   "pygments_lexer": "ipython3",
   "version": "3.6.5"
  }
 },
 "nbformat": 4,
 "nbformat_minor": 2
}
