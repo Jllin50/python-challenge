{
 "cells": [
  {
   "cell_type": "code",
   "execution_count": 1,
   "metadata": {},
   "outputs": [],
   "source": [
    "filename = 'PyBank_Resources_budget_data.csv' \n",
    "with open(filename) as file_object:     \n",
    "    lines = file_object.readlines() \n",
    "    \n",
    "del lines[0]    "
   ]
  },
  {
   "cell_type": "code",
   "execution_count": 2,
   "metadata": {},
   "outputs": [],
   "source": [
    "i = 0\n",
    "for line in lines:\n",
    "    cleaned = line.rstrip()\n",
    "    cleaned = cleaned.split(\",\")\n",
    "    lines[i] = cleaned\n",
    "    i += 1"
   ]
  },
  {
   "cell_type": "code",
   "execution_count": 3,
   "metadata": {},
   "outputs": [],
   "source": [
    "month_count = 0\n",
    "net_profit = 0\n",
    "highest_index = 0 \n",
    "highest = 0 \n",
    "lowest_index = 0\n",
    "lowest = 0\n",
    "j = 0\n",
    "\n",
    "for line in lines:\n",
    "    month_count += 1\n",
    "    net_profit += int(line[1])\n",
    "    if int(line[1]) > highest:\n",
    "        highest = int(line[1])\n",
    "        highest_index = j\n",
    "    elif int(line[1]) < lowest:\n",
    "        lowest = int(line[1])\n",
    "        lowest_index = j\n",
    "    j += 1\n",
    "average_net = round(net_profit/month_count, 2)"
   ]
  },
  {
   "cell_type": "code",
   "execution_count": 4,
   "metadata": {},
   "outputs": [
    {
     "name": "stdout",
     "output_type": "stream",
     "text": [
      "Financial Analysis\n",
      "-------------------\n",
      "Total Months 86\n",
      "Total: $38382578\n",
      "Average Change: $446309.05\n",
      "Greatest Increase in Profits: Feb-2012 ($1170593)\n",
      "Greatest Decrease in Profits: Sep-2013 ($-1196225)\n"
     ]
    }
   ],
   "source": [
    "print(\"Financial Analysis\")\n",
    "print(\"-------------------\")\n",
    "print(\"Total Months {}\".format(month_count))\n",
    "print(\"Total: ${}\".format(net_profit))\n",
    "print(\"Average Change: ${}\".format(average_net))\n",
    "print(\"Greatest Increase in Profits: {} (${})\".format(lines[highest_index][0],lines[highest_index][1]))\n",
    "print(\"Greatest Decrease in Profits: {} (${})\".format(lines[lowest_index][0],lines[lowest_index][1]))"
   ]
  },
  {
   "cell_type": "code",
   "execution_count": null,
   "metadata": {},
   "outputs": [],
   "source": []
  }
 ],
 "metadata": {
  "kernelspec": {
   "display_name": "Python 3",
   "language": "python",
   "name": "python3"
  },
  "language_info": {
   "codemirror_mode": {
    "name": "ipython",
    "version": 3
   },
   "file_extension": ".py",
   "mimetype": "text/x-python",
   "name": "python",
   "nbconvert_exporter": "python",
   "pygments_lexer": "ipython3",
   "version": "3.6.5"
  }
 },
 "nbformat": 4,
 "nbformat_minor": 2
}
